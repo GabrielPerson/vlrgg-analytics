{
 "metadata": {
  "language_info": {
   "codemirror_mode": {
    "name": "ipython",
    "version": 3
   },
   "file_extension": ".py",
   "mimetype": "text/x-python",
   "name": "python",
   "nbconvert_exporter": "python",
   "pygments_lexer": "ipython3",
   "version": "3.7.6-final"
  },
  "orig_nbformat": 2,
  "kernelspec": {
   "name": "python3",
   "display_name": "Python 3",
   "language": "python"
  }
 },
 "nbformat": 4,
 "nbformat_minor": 2,
 "cells": [
  {
   "cell_type": "code",
   "execution_count": 1,
   "metadata": {},
   "outputs": [],
   "source": [
    "## Import functions for Data Scraping, Treatment and Plotting\n",
    "\n",
    "## System\n",
    "import re\n",
    "import warnings\n",
    "from pandas.core.common import SettingWithCopyWarning\n",
    "warnings.simplefilter(action=\"ignore\", category=SettingWithCopyWarning)\n",
    "\n",
    "## EDA\n",
    "import numpy as np\n",
    "import pandas as pd\n",
    "\n",
    "## Plotting\n",
    "import matplotlib.pyplot as plt\n",
    "import seaborn as sns\n",
    "sns.set(style='whitegrid')\n"
   ]
  },
  {
   "cell_type": "code",
   "execution_count": 14,
   "metadata": {},
   "outputs": [],
   "source": [
    "## FUNCIONS\n",
    "\n",
    "## IMPORT DATA FROM CSV FILE\n",
    "def ImportData(team_file, type):\n",
    "    folder = team_file + '/'\n",
    "    maps_file = team_file + '_'+type+'_MAPS.csv'\n",
    "    matches_file = team_file + '_'+type+'_MATCHES.csv'\n",
    "    \n",
    "    maps = pd.read_csv(CSV_PATH + folder + maps_file)\n",
    "    matches = pd.read_csv(CSV_PATH + folder + matches_file)\n",
    "\n",
    "    return maps, matches\n",
    "\n",
    "## Get Map data for all teams\n",
    "def AllTeamsMaps(files, type, team_col, filter_value):\n",
    "    concat = pd.concat([ImportData(team_file, type)[0] for team_file in files])\n",
    "    filter = FilterCol(concat, team_col, filter_value)\n",
    "    \n",
    "    filter[team_col][(filter[team_col] == 'NOOR') | (filter[team_col] == 'NOORG2.0')] = 'paiN'\n",
    "    filter[team_col][filter[team_col] == 'Mix'] = 'IMP'\n",
    "    filter[team_col][(filter[team_col] == 'Ingaming') | (filter[team_col] == 'NMDM')] = 'Inga'\n",
    "    filter[team_col][filter[team_col] == 'FF'] = 'VORA'\n",
    "    filter[team_col][filter[team_col] == 'HAVA'] = 'HAVAN'\n",
    "    \n",
    "    if type == 'overview': ExtraInfoMaps(filter)\n",
    "    return filter\n",
    "\n",
    "## Get Match data for all teams\n",
    "def AllTeamsMatches(files, type, team_col, filter_value):\n",
    "    concat = pd.concat([ImportData(team_file, type)[1] for team_file in files])\n",
    "    filter = FilterCol(concat, team_col, filter_value)\n",
    "    \n",
    "    filter[team_col][(filter[team_col] == 'NOOR') | (filter[team_col] == 'NOORG2.0')] = 'paiN'\n",
    "    filter[team_col][filter[team_col] == 'Mix'] = 'IMP'\n",
    "    filter[team_col][(filter[team_col] == 'Ingaming') | (filter[team_col] == 'NMDM')] = 'Inga'\n",
    "    filter[team_col][filter[team_col] == 'FF'] = 'VORA'\n",
    "    filter[team_col][filter[team_col] == 'HAVA'] = 'HAVAN'\n",
    "    \n",
    "    if type == 'overview': ExtraInfoMatches(filter)\n",
    "    return filter\n",
    "\n",
    "\n",
    "## ADD EXTRA INFO TO MATCHES DATAFRAME -- OVERVIEW\n",
    "def ExtraInfoMatches(df):\n",
    "    # KDA + FK/FD per map\n",
    "    df['KPM'] = round(df['K'] / df['Num_maps'],2)\n",
    "    df['DPM'] = round(df['D'] / df['Num_maps'],2)\n",
    "    df['APM'] = round(df['A'] / df['Num_maps'],2)\n",
    "    df['FKPM'] = round(df['FK'] / df['Num_maps'],2)\n",
    "    df['FDPM'] = round(df['FD'] / df['Num_maps'],2)\n",
    "\n",
    "## ADD EXTRA INFO TO MAPS DATAFRAME -- OVERVIEW\n",
    "def ExtraInfoMaps(df):\n",
    "\n",
    "    # Total Rounds\n",
    "    df['total_rounds'] = df['rounds_won'] + df['rounds_lost']\n",
    "\n",
    "    # Round Win Rate\n",
    "    df['win_rate'] = round(df['rounds_won'] / df['total_rounds'] * 100, 2)\n",
    "\n",
    "    # KDA + FK/FD per Round\n",
    "    df['KPR'] = round(df['K'] / df['total_rounds'],2)\n",
    "    df['DPR'] = round(df['D'] / df['total_rounds'],2)\n",
    "    df['APR'] = round(df['A'] / df['total_rounds'],2)\n",
    "    df['FKPR'] = round(df['FK'] / df['total_rounds'],2)\n",
    "    df['FDPR'] = round(df['FD'] / df['total_rounds'],2)\n",
    "\n",
    "    # Won/Lost Map\n",
    "    df['RESULT'] = ['W' if x == True\n",
    "                    else 'L'\n",
    "                    for x in df['rounds_won'] > df['rounds_lost']]\n",
    "\n",
    "## FILTER FUNCTIONS BY GIVEN OPPONENT/MAP/PLAYER/AGENT\n",
    "\n",
    "def FilterCol(df, col, values):\n",
    "    return df[df[col].isin(values)].reset_index(drop=True)\n",
    "\n",
    "\n",
    "## CORRELATION OF GIVEN FEATURE WITH NUMBER OF ROUNDS WON\n",
    "def WinCorr(df, stats, filter_maps = None):\n",
    "    if filter_maps is not None:\n",
    "        df = FilterMap(df, filter_maps)\n",
    "    group = maps.groupby('rounds_won').mean()[stats].reset_index()\n",
    "    corr_pearson = (group.corr())['rounds_won'][stats]\n",
    "    corr_spearman = (group.corr(method='spearman'))['rounds_won'][stats]\n",
    "    corr_kendall = (group.corr(method='kendall'))['rounds_won'][stats]\n",
    "    print(\"Correlação Pearson média({0}) por Rounds Vencidos: {1}\".format(stats, round(corr_pearson, 2)))\n",
    "    print(\"Correlação Spearman média({0}) por Rounds Vencidos: {1}\".format(stats, round(corr_spearman, 2)))\n",
    "    print(\"Correlação Kendall média({0}) por Rounds Vencidos: {1}\".format(stats, round(corr_kendall, 2)))\n",
    "\n",
    "## CREATE DICT WITH MULTIPLE DATAFRAMES BY FILTERED VALUES\n",
    "def FilterDict(col):\n",
    "    aux = {}\n",
    "    names = maps[col].unique()\n",
    "    for name in names:\n",
    "        aux[name] = maps[maps[col] == name].reset_index(drop=True)\n",
    "    return aux\n",
    "\n",
    "def Boxplot(nome_col, value):\n",
    "    sns.set(rc={'figure.figsize':(12,7)})\n",
    "    sns.boxplot(x=maps[nome_col], y=maps[value], order=maps[nome_col].sort_values().unique())\n",
    "\n",
    "def Histogram(data ,value_col, filter):\n",
    "    sns.set(rc={'figure.figsize':(12,7)})\n",
    "    sns.displot(data=data, x=value_col, col=filter)\n",
    "\n",
    "def PlotAgentPickRate(df):\n",
    "    for i, map in enumerate(MAPS):\n",
    "        filter = FilterMap(df, [map])\n",
    "        agent_pick_rate = filter['Agents'].value_counts() / (len(filter) / 5)  * 100\n",
    "        plt.figure(i, figsize=(10,))\n",
    "        sns.barplot(y=agent_pick_rate.index, x=agent_pick_rate.values, palette=\"Blues_d\").set_title('Agent Pick Rate -- '+map+' -- Played: '+str(int(len(filter) / 5))+' times')"
   ]
  },
  {
   "cell_type": "code",
   "execution_count": 2,
   "metadata": {},
   "outputs": [],
   "source": [
    "ALL_FILES = ['gamelanders', 'pain', 'vorax', 'havan', 'imperial', 'ingaming', 'vikings', 'black_dragons']\n",
    "ALL_TEAMS = ['GL', 'IMP','Mix', 'HAVAN', 'HAVA', 'Inga', 'Ingaming', 'NMDM', 'VKS', 'FF', 'VORA', 'BD', 'paiN','NOOR', 'NOORG2.0']\n",
    "MAPS = ['ASCENT', 'BIND', 'HAVEN', 'ICEBOX', 'SPLIT']\n",
    "\n",
    "CSV_PATH = '../data/csv/'\n",
    "EXCEL_PATH = '..data/excel/'"
   ]
  },
  {
   "cell_type": "code",
   "execution_count": 53,
   "metadata": {},
   "outputs": [],
   "source": [
    "overview_maps = AllTeamsMaps(ALL_FILES,'overview', 'Team', ALL_TEAMS)\n",
    "performance_maps = AllTeamsMaps(ALL_FILES, 'performance', 'Team', ALL_TEAMS)\n",
    "economy_maps = AllTeamsMaps(ALL_FILES, 'economy', 'Team', ALL_TEAMS)"
   ]
  },
  {
   "cell_type": "code",
   "execution_count": 19,
   "metadata": {},
   "outputs": [
    {
     "output_type": "execute_result",
     "data": {
      "text/plain": [
       "   Player  Agents  ACS   K   D  A  KD_DIFF    ADR  HS%  FK  ...    Map  Patch  \\\n",
       "0    Jonn    jett  398  22   9  5       13  224.6   18   3  ...  SPLIT   1.12   \n",
       "1  mwzera    raze  268  14  12  5        2  181.0   17   2  ...  SPLIT   1.12   \n",
       "2    JhoW    omen  185  13   8  7        5  103.9   19   1  ...  SPLIT   1.12   \n",
       "3   fznnn  cypher  155   8   9  9       -1   83.6   14   1  ...  SPLIT   1.12   \n",
       "4   Nyang  breach  131   8  10  3       -2   66.6   15   0  ...  SPLIT   1.12   \n",
       "\n",
       "   total_rounds win_rate   KPR   DPR   APR  FKPR  FDPR  RESULT  \n",
       "0            16    81.25  1.38  0.56  0.31  0.19  0.06       W  \n",
       "1            16    81.25  0.88  0.75  0.31  0.12  0.06       W  \n",
       "2            16    81.25  0.81  0.50  0.44  0.06  0.06       W  \n",
       "3            16    81.25  0.50  0.56  0.56  0.06  0.31       W  \n",
       "4            16    81.25  0.50  0.62  0.19  0.00  0.06       W  \n",
       "\n",
       "[5 rows x 27 columns]"
      ],
      "text/html": "<div>\n<style scoped>\n    .dataframe tbody tr th:only-of-type {\n        vertical-align: middle;\n    }\n\n    .dataframe tbody tr th {\n        vertical-align: top;\n    }\n\n    .dataframe thead th {\n        text-align: right;\n    }\n</style>\n<table border=\"1\" class=\"dataframe\">\n  <thead>\n    <tr style=\"text-align: right;\">\n      <th></th>\n      <th>Player</th>\n      <th>Agents</th>\n      <th>ACS</th>\n      <th>K</th>\n      <th>D</th>\n      <th>A</th>\n      <th>KD_DIFF</th>\n      <th>ADR</th>\n      <th>HS%</th>\n      <th>FK</th>\n      <th>...</th>\n      <th>Map</th>\n      <th>Patch</th>\n      <th>total_rounds</th>\n      <th>win_rate</th>\n      <th>KPR</th>\n      <th>DPR</th>\n      <th>APR</th>\n      <th>FKPR</th>\n      <th>FDPR</th>\n      <th>RESULT</th>\n    </tr>\n  </thead>\n  <tbody>\n    <tr>\n      <th>0</th>\n      <td>Jonn</td>\n      <td>jett</td>\n      <td>398</td>\n      <td>22</td>\n      <td>9</td>\n      <td>5</td>\n      <td>13</td>\n      <td>224.6</td>\n      <td>18</td>\n      <td>3</td>\n      <td>...</td>\n      <td>SPLIT</td>\n      <td>1.12</td>\n      <td>16</td>\n      <td>81.25</td>\n      <td>1.38</td>\n      <td>0.56</td>\n      <td>0.31</td>\n      <td>0.19</td>\n      <td>0.06</td>\n      <td>W</td>\n    </tr>\n    <tr>\n      <th>1</th>\n      <td>mwzera</td>\n      <td>raze</td>\n      <td>268</td>\n      <td>14</td>\n      <td>12</td>\n      <td>5</td>\n      <td>2</td>\n      <td>181.0</td>\n      <td>17</td>\n      <td>2</td>\n      <td>...</td>\n      <td>SPLIT</td>\n      <td>1.12</td>\n      <td>16</td>\n      <td>81.25</td>\n      <td>0.88</td>\n      <td>0.75</td>\n      <td>0.31</td>\n      <td>0.12</td>\n      <td>0.06</td>\n      <td>W</td>\n    </tr>\n    <tr>\n      <th>2</th>\n      <td>JhoW</td>\n      <td>omen</td>\n      <td>185</td>\n      <td>13</td>\n      <td>8</td>\n      <td>7</td>\n      <td>5</td>\n      <td>103.9</td>\n      <td>19</td>\n      <td>1</td>\n      <td>...</td>\n      <td>SPLIT</td>\n      <td>1.12</td>\n      <td>16</td>\n      <td>81.25</td>\n      <td>0.81</td>\n      <td>0.50</td>\n      <td>0.44</td>\n      <td>0.06</td>\n      <td>0.06</td>\n      <td>W</td>\n    </tr>\n    <tr>\n      <th>3</th>\n      <td>fznnn</td>\n      <td>cypher</td>\n      <td>155</td>\n      <td>8</td>\n      <td>9</td>\n      <td>9</td>\n      <td>-1</td>\n      <td>83.6</td>\n      <td>14</td>\n      <td>1</td>\n      <td>...</td>\n      <td>SPLIT</td>\n      <td>1.12</td>\n      <td>16</td>\n      <td>81.25</td>\n      <td>0.50</td>\n      <td>0.56</td>\n      <td>0.56</td>\n      <td>0.06</td>\n      <td>0.31</td>\n      <td>W</td>\n    </tr>\n    <tr>\n      <th>4</th>\n      <td>Nyang</td>\n      <td>breach</td>\n      <td>131</td>\n      <td>8</td>\n      <td>10</td>\n      <td>3</td>\n      <td>-2</td>\n      <td>66.6</td>\n      <td>15</td>\n      <td>0</td>\n      <td>...</td>\n      <td>SPLIT</td>\n      <td>1.12</td>\n      <td>16</td>\n      <td>81.25</td>\n      <td>0.50</td>\n      <td>0.62</td>\n      <td>0.19</td>\n      <td>0.00</td>\n      <td>0.06</td>\n      <td>W</td>\n    </tr>\n  </tbody>\n</table>\n<p>5 rows × 27 columns</p>\n</div>"
     },
     "metadata": {},
     "execution_count": 19
    }
   ],
   "source": [
    "overview_maps.head()"
   ]
  },
  {
   "cell_type": "code",
   "execution_count": 27,
   "metadata": {},
   "outputs": [
    {
     "output_type": "execute_result",
     "data": {
      "text/plain": [
       "  Team  Pistol_W  Pistol_P  Pistol_WR  Eco_0_5_P  Eco_0_5_W  Eco_0_5_WR  \\\n",
       "0   GL         2         2      100.0          2          2       100.0   \n",
       "1  IMP         0         2        0.0          3          0         0.0   \n",
       "2   GL         2         2      100.0          2          2       100.0   \n",
       "3  IMP         0         2        0.0          4          0         0.0   \n",
       "4   GL         1         2       50.0          3          1        33.0   \n",
       "\n",
       "   Semi_Eco_5_10_P  Semi_Eco_5_10_W  Semi_Eco_5_10_WR  ...  Semi_Buy_10_20_W  \\\n",
       "0                1                1             100.0  ...                 3   \n",
       "1                2                0               0.0  ...                 2   \n",
       "2                2                1              50.0  ...                 3   \n",
       "3                2                0               0.0  ...                 2   \n",
       "4                0                0               NaN  ...                 2   \n",
       "\n",
       "   Semi_Buy_10_20_WR  Full_Buy_20_P  Full_Buy_20_W  Full_Buy_20_WR  Opp_team  \\\n",
       "0               75.0              9              7            78.0       IMP   \n",
       "1               33.0              5              1            20.0        GL   \n",
       "2               60.0             13              7            54.0       IMP   \n",
       "3               50.0             12              7            58.0        GL   \n",
       "4              100.0             11             10            91.0       RED   \n",
       "\n",
       "  Num_maps  Patch  match_id     Map  \n",
       "0      1.0   1.12      6797   SPLIT  \n",
       "1      1.0   1.12      6797   SPLIT  \n",
       "2      1.0   1.12      6797    BIND  \n",
       "3      1.0   1.12      6797    BIND  \n",
       "4      1.0    NaN      6526  ASCENT  \n",
       "\n",
       "[5 rows x 21 columns]"
      ],
      "text/html": "<div>\n<style scoped>\n    .dataframe tbody tr th:only-of-type {\n        vertical-align: middle;\n    }\n\n    .dataframe tbody tr th {\n        vertical-align: top;\n    }\n\n    .dataframe thead th {\n        text-align: right;\n    }\n</style>\n<table border=\"1\" class=\"dataframe\">\n  <thead>\n    <tr style=\"text-align: right;\">\n      <th></th>\n      <th>Team</th>\n      <th>Pistol_W</th>\n      <th>Pistol_P</th>\n      <th>Pistol_WR</th>\n      <th>Eco_0_5_P</th>\n      <th>Eco_0_5_W</th>\n      <th>Eco_0_5_WR</th>\n      <th>Semi_Eco_5_10_P</th>\n      <th>Semi_Eco_5_10_W</th>\n      <th>Semi_Eco_5_10_WR</th>\n      <th>...</th>\n      <th>Semi_Buy_10_20_W</th>\n      <th>Semi_Buy_10_20_WR</th>\n      <th>Full_Buy_20_P</th>\n      <th>Full_Buy_20_W</th>\n      <th>Full_Buy_20_WR</th>\n      <th>Opp_team</th>\n      <th>Num_maps</th>\n      <th>Patch</th>\n      <th>match_id</th>\n      <th>Map</th>\n    </tr>\n  </thead>\n  <tbody>\n    <tr>\n      <th>0</th>\n      <td>GL</td>\n      <td>2</td>\n      <td>2</td>\n      <td>100.0</td>\n      <td>2</td>\n      <td>2</td>\n      <td>100.0</td>\n      <td>1</td>\n      <td>1</td>\n      <td>100.0</td>\n      <td>...</td>\n      <td>3</td>\n      <td>75.0</td>\n      <td>9</td>\n      <td>7</td>\n      <td>78.0</td>\n      <td>IMP</td>\n      <td>1.0</td>\n      <td>1.12</td>\n      <td>6797</td>\n      <td>SPLIT</td>\n    </tr>\n    <tr>\n      <th>1</th>\n      <td>IMP</td>\n      <td>0</td>\n      <td>2</td>\n      <td>0.0</td>\n      <td>3</td>\n      <td>0</td>\n      <td>0.0</td>\n      <td>2</td>\n      <td>0</td>\n      <td>0.0</td>\n      <td>...</td>\n      <td>2</td>\n      <td>33.0</td>\n      <td>5</td>\n      <td>1</td>\n      <td>20.0</td>\n      <td>GL</td>\n      <td>1.0</td>\n      <td>1.12</td>\n      <td>6797</td>\n      <td>SPLIT</td>\n    </tr>\n    <tr>\n      <th>2</th>\n      <td>GL</td>\n      <td>2</td>\n      <td>2</td>\n      <td>100.0</td>\n      <td>2</td>\n      <td>2</td>\n      <td>100.0</td>\n      <td>2</td>\n      <td>1</td>\n      <td>50.0</td>\n      <td>...</td>\n      <td>3</td>\n      <td>60.0</td>\n      <td>13</td>\n      <td>7</td>\n      <td>54.0</td>\n      <td>IMP</td>\n      <td>1.0</td>\n      <td>1.12</td>\n      <td>6797</td>\n      <td>BIND</td>\n    </tr>\n    <tr>\n      <th>3</th>\n      <td>IMP</td>\n      <td>0</td>\n      <td>2</td>\n      <td>0.0</td>\n      <td>4</td>\n      <td>0</td>\n      <td>0.0</td>\n      <td>2</td>\n      <td>0</td>\n      <td>0.0</td>\n      <td>...</td>\n      <td>2</td>\n      <td>50.0</td>\n      <td>12</td>\n      <td>7</td>\n      <td>58.0</td>\n      <td>GL</td>\n      <td>1.0</td>\n      <td>1.12</td>\n      <td>6797</td>\n      <td>BIND</td>\n    </tr>\n    <tr>\n      <th>4</th>\n      <td>GL</td>\n      <td>1</td>\n      <td>2</td>\n      <td>50.0</td>\n      <td>3</td>\n      <td>1</td>\n      <td>33.0</td>\n      <td>0</td>\n      <td>0</td>\n      <td>NaN</td>\n      <td>...</td>\n      <td>2</td>\n      <td>100.0</td>\n      <td>11</td>\n      <td>10</td>\n      <td>91.0</td>\n      <td>RED</td>\n      <td>1.0</td>\n      <td>NaN</td>\n      <td>6526</td>\n      <td>ASCENT</td>\n    </tr>\n  </tbody>\n</table>\n<p>5 rows × 21 columns</p>\n</div>"
     },
     "metadata": {},
     "execution_count": 27
    }
   ],
   "source": [
    "economy_maps.head()"
   ]
  },
  {
   "cell_type": "code",
   "execution_count": 47,
   "metadata": {},
   "outputs": [],
   "source": [
    "## Merge Overview + resto\n",
    "\n",
    "merge_over_perf = overview_maps.merge(performance_maps, how='inner', left_on=['match_id','Map','Player'],right_on=['match_id','Map','Player']).drop_duplicates()\n",
    "base_geral = merge_over_perf.merge(economy_maps, how='inner', left_on=['match_id','Map','Team_x'],right_on=['match_id','Map','Team']).drop_duplicates()"
   ]
  },
  {
   "cell_type": "code",
   "execution_count": 49,
   "metadata": {},
   "outputs": [],
   "source": [
    "base_geral.to_csv('base_geral.csv', index=False)"
   ]
  },
  {
   "cell_type": "code",
   "execution_count": null,
   "metadata": {},
   "outputs": [],
   "source": []
  }
 ]
}