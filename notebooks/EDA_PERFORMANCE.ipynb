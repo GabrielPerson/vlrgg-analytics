{
 "metadata": {
  "language_info": {
   "codemirror_mode": {
    "name": "ipython",
    "version": 3
   },
   "file_extension": ".py",
   "mimetype": "text/x-python",
   "name": "python",
   "nbconvert_exporter": "python",
   "pygments_lexer": "ipython3",
   "version": "3.7.6-final"
  },
  "orig_nbformat": 2,
  "kernelspec": {
   "name": "python3",
   "display_name": "Python 3",
   "language": "python"
  }
 },
 "nbformat": 4,
 "nbformat_minor": 2,
 "cells": [
  {
   "source": [
    "## Notebook para analise exploratória e estatistica dos dados de \"ECONOMY\" extraidos do site VLR.GG"
   ],
   "cell_type": "markdown",
   "metadata": {}
  },
  {
   "cell_type": "code",
   "execution_count": 2,
   "metadata": {},
   "outputs": [],
   "source": [
    "## Import functions for Data Scraping, Treatment and Plotting\n",
    "\n",
    "## System\n",
    "import re\n",
    "import warnings\n",
    "from pandas.core.common import SettingWithCopyWarning\n",
    "warnings.simplefilter(action=\"ignore\", category=SettingWithCopyWarning)\n",
    "\n",
    "## EDA\n",
    "import numpy as np\n",
    "import pandas as pd\n",
    "\n",
    "## Plotting\n",
    "import matplotlib.pyplot as plt\n",
    "import seaborn as sns\n",
    "sns.set(style='whitegrid')\n"
   ]
  },
  {
   "cell_type": "code",
   "execution_count": 16,
   "metadata": {},
   "outputs": [],
   "source": [
    "## IMPORT DATA FROM CSV FILE\n",
    "def ImportData(team_file):\n",
    "\n",
    "    folder = team_file + '/'\n",
    "    maps_file = team_file + '_performance_MAPS.csv'\n",
    "    matches_file = team_file + '_performance_MATCHES.csv'\n",
    "    \n",
    "    maps = pd.read_csv(CSV_PATH + folder + maps_file)\n",
    "    matches = pd.read_csv(CSV_PATH + folder + matches_file)\n",
    " \n",
    "    return maps, matches\n",
    "\n",
    "## FILTER FUNCTIONS BY GIVEN TEAM/OPPONENT/MAP/PLAYER/AGENT\n",
    "\n",
    "def FilterTeam(df, teams):\n",
    "    return df[df[\"Opp_Team\"].isin(teams)]\n",
    "\n",
    "def FilterOppTeam(df, opp_teams):\n",
    "    return df[df[\"Opp_Team\"].isin(opp_teams)]\n",
    "\n",
    "def FilterMap(df, maps):\n",
    "    return df[df[\"Map\"].isin(maps)]\n",
    "\n",
    "def FilterPlayer(df, players):\n",
    "    return df[df[\"Player\"].isin(players)]\n",
    "\n",
    "## CREATE DICT WITH MULTIPLE DATAFRAMES BY FILTERED VALUES\n",
    "def FilterDict(col):\n",
    "    aux = {}\n",
    "    names = maps[col].unique()\n",
    "    for name in names:\n",
    "        aux[name] = maps[maps[col] == name].reset_index(drop=True)\n",
    "    return aux"
   ]
  },
  {
   "cell_type": "code",
   "execution_count": 13,
   "metadata": {},
   "outputs": [],
   "source": [
    "## TEAMS: 'IMP', 'paiN', 'NOOR', 'FF', 'BD', 'GL', 'HAVA', 'Mix'\n",
    "CSV_PATH = '../data/csv/'\n",
    "EXCEL_PATH = '..data/excel/'\n",
    "TEAM = ['paiN', 'NOOR']\n",
    "TEAM_HOM = 'NOOR'\n",
    "OPP_TEAMS = ['GL', 'IMP', 'HAVAN', 'Inga', 'NMDM', 'VKS', 'FF', 'VORA', 'BD']\n",
    "MAPS = ['ASCENT', 'BIND', 'HAVEN', 'ICEBOX', 'SPLIT']\n",
    "maps = pd.read_csv(CSV_PATH + 'pain/pain_economy_MAPS.csv')\n",
    "matches = pd.read_csv(CSV_PATH + 'pain/pain_economy_MATCHES.csv')"
   ]
  },
  {
   "cell_type": "code",
   "execution_count": 17,
   "metadata": {},
   "outputs": [],
   "source": [
    "## team_files: gamlanders, pain, vorax, havan, imperial, ingaming, vikings, black_dragons\n",
    "maps, matches = ImportData('pain')"
   ]
  },
  {
   "cell_type": "code",
   "execution_count": 18,
   "metadata": {},
   "outputs": [
    {
     "output_type": "execute_result",
     "data": {
      "text/plain": [
       "      Player  2K  3K   4K   5K  1v1  1v2  1v3  1v4  1v5  ECON  PL  DE Team  \\\n",
       "0        rst   3   0  1.0  0.0  0.0  0.0  0.0  0.0  0.0    80   1   0  IMP   \n",
       "1    Evilkyk   1   0  0.0  0.0  0.0  0.0  0.0  0.0  0.0    29   0   2  IMP   \n",
       "2       tuyz   2   1  0.0  0.0  1.0  0.0  0.0  0.0  0.0    71   0   0  IMP   \n",
       "3  Biscoit1n   2   0  0.0  0.0  0.0  0.0  0.0  0.0  0.0    35   0   0  IMP   \n",
       "4      txddy   4   1  0.0  0.0  0.0  0.0  0.0  0.0  0.0    64   1   1  IMP   \n",
       "\n",
       "  Opp_Team     Map  Patch  \n",
       "0     paiN  ASCENT    NaN  \n",
       "1     paiN  ASCENT    NaN  \n",
       "2     paiN  ASCENT    NaN  \n",
       "3     paiN  ASCENT    NaN  \n",
       "4     paiN  ASCENT    NaN  "
      ],
      "text/html": "<div>\n<style scoped>\n    .dataframe tbody tr th:only-of-type {\n        vertical-align: middle;\n    }\n\n    .dataframe tbody tr th {\n        vertical-align: top;\n    }\n\n    .dataframe thead th {\n        text-align: right;\n    }\n</style>\n<table border=\"1\" class=\"dataframe\">\n  <thead>\n    <tr style=\"text-align: right;\">\n      <th></th>\n      <th>Player</th>\n      <th>2K</th>\n      <th>3K</th>\n      <th>4K</th>\n      <th>5K</th>\n      <th>1v1</th>\n      <th>1v2</th>\n      <th>1v3</th>\n      <th>1v4</th>\n      <th>1v5</th>\n      <th>ECON</th>\n      <th>PL</th>\n      <th>DE</th>\n      <th>Team</th>\n      <th>Opp_Team</th>\n      <th>Map</th>\n      <th>Patch</th>\n    </tr>\n  </thead>\n  <tbody>\n    <tr>\n      <th>0</th>\n      <td>rst</td>\n      <td>3</td>\n      <td>0</td>\n      <td>1.0</td>\n      <td>0.0</td>\n      <td>0.0</td>\n      <td>0.0</td>\n      <td>0.0</td>\n      <td>0.0</td>\n      <td>0.0</td>\n      <td>80</td>\n      <td>1</td>\n      <td>0</td>\n      <td>IMP</td>\n      <td>paiN</td>\n      <td>ASCENT</td>\n      <td>NaN</td>\n    </tr>\n    <tr>\n      <th>1</th>\n      <td>Evilkyk</td>\n      <td>1</td>\n      <td>0</td>\n      <td>0.0</td>\n      <td>0.0</td>\n      <td>0.0</td>\n      <td>0.0</td>\n      <td>0.0</td>\n      <td>0.0</td>\n      <td>0.0</td>\n      <td>29</td>\n      <td>0</td>\n      <td>2</td>\n      <td>IMP</td>\n      <td>paiN</td>\n      <td>ASCENT</td>\n      <td>NaN</td>\n    </tr>\n    <tr>\n      <th>2</th>\n      <td>tuyz</td>\n      <td>2</td>\n      <td>1</td>\n      <td>0.0</td>\n      <td>0.0</td>\n      <td>1.0</td>\n      <td>0.0</td>\n      <td>0.0</td>\n      <td>0.0</td>\n      <td>0.0</td>\n      <td>71</td>\n      <td>0</td>\n      <td>0</td>\n      <td>IMP</td>\n      <td>paiN</td>\n      <td>ASCENT</td>\n      <td>NaN</td>\n    </tr>\n    <tr>\n      <th>3</th>\n      <td>Biscoit1n</td>\n      <td>2</td>\n      <td>0</td>\n      <td>0.0</td>\n      <td>0.0</td>\n      <td>0.0</td>\n      <td>0.0</td>\n      <td>0.0</td>\n      <td>0.0</td>\n      <td>0.0</td>\n      <td>35</td>\n      <td>0</td>\n      <td>0</td>\n      <td>IMP</td>\n      <td>paiN</td>\n      <td>ASCENT</td>\n      <td>NaN</td>\n    </tr>\n    <tr>\n      <th>4</th>\n      <td>txddy</td>\n      <td>4</td>\n      <td>1</td>\n      <td>0.0</td>\n      <td>0.0</td>\n      <td>0.0</td>\n      <td>0.0</td>\n      <td>0.0</td>\n      <td>0.0</td>\n      <td>0.0</td>\n      <td>64</td>\n      <td>1</td>\n      <td>1</td>\n      <td>IMP</td>\n      <td>paiN</td>\n      <td>ASCENT</td>\n      <td>NaN</td>\n    </tr>\n  </tbody>\n</table>\n</div>"
     },
     "metadata": {},
     "execution_count": 18
    }
   ],
   "source": [
    "maps.head() "
   ]
  },
  {
   "cell_type": "code",
   "execution_count": 9,
   "metadata": {},
   "outputs": [
    {
     "output_type": "execute_result",
     "data": {
      "text/plain": [
       "array(['IMP', 'paiN', 'ITZA', 'NOOR', 'FF', 'VIMD', 'B4', 'FAKE', 'FKL',\n",
       "       'BD', 'dogz', '1tap', 'Furn', 'RED', 'GL', 'HAVA', 'Mix', 'K'],\n",
       "      dtype=object)"
      ]
     },
     "metadata": {},
     "execution_count": 9
    }
   ],
   "source": [
    "maps.Team.unique()"
   ]
  },
  {
   "cell_type": "code",
   "execution_count": 14,
   "metadata": {},
   "outputs": [],
   "source": [
    "## Filter Team\n",
    "matches = matches[(matches['Team'].isin(TEAM))].reset_index(drop=True)\n",
    "maps = maps[(maps['Team'].isin(TEAM))].reset_index(drop=True)(drop=True)"
   ]
  },
  {
   "cell_type": "code",
   "execution_count": 15,
   "metadata": {},
   "outputs": [
    {
     "output_type": "execute_result",
     "data": {
      "text/plain": [
       "    Team  Pistol_W  Pistol_P  Pistol_WR  Eco_0_5_P  Eco_0_5_W  Eco_0_5_WR  \\\n",
       "0   paiN         3         6       50.0          8          3        38.0   \n",
       "1   paiN         4         4      100.0          4          4       100.0   \n",
       "2   paiN         1         4       25.0          7          2        29.0   \n",
       "3   paiN         4         4      100.0          4          4       100.0   \n",
       "4   paiN         2         4       50.0          6          2        33.0   \n",
       "5   paiN         1         2       50.0          3          2        67.0   \n",
       "6   paiN         2         2      100.0          2          2       100.0   \n",
       "7   paiN         1         6       17.0         10          2        20.0   \n",
       "8   paiN         1         2       50.0          6          2        33.0   \n",
       "9   paiN         4         8       50.0         12          4        33.0   \n",
       "10  paiN         4         4      100.0          5          4        80.0   \n",
       "11  paiN         3         6       50.0         10          3        30.0   \n",
       "12  paiN         3         6       50.0          9          4        44.0   \n",
       "13  paiN         1         2       50.0          4          2        50.0   \n",
       "\n",
       "    Semi_Eco_5_10_P  Semi_Eco_5_10_W  Semi_Eco_5_10_WR  Semi_Buy_10_20_P  \\\n",
       "0                 3                0               0.0                12   \n",
       "1                 0                0               NaN                11   \n",
       "2                 1                0               0.0                 1   \n",
       "3                 0                0               NaN                12   \n",
       "4                 2                2             100.0                 4   \n",
       "5                 0                0               NaN                 3   \n",
       "6                 1                0               0.0                 6   \n",
       "7                 5                0               0.0                10   \n",
       "8                 1                1             100.0                 3   \n",
       "9                10                1              10.0                21   \n",
       "10                4                0               0.0                 9   \n",
       "11                2                0               0.0                 8   \n",
       "12                6                2              33.0                10   \n",
       "13                3                0               0.0                 4   \n",
       "\n",
       "    Semi_Buy_10_20_W  Semi_Buy_10_20_WR  Full_Buy_20_P  Full_Buy_20_W  \\\n",
       "0                  8               67.0             39             20   \n",
       "1                  7               64.0             20             15   \n",
       "2                  1              100.0             34             23   \n",
       "3                  7               58.0             22             15   \n",
       "4                  3               75.0             30             19   \n",
       "5                  3              100.0              9              8   \n",
       "6                  2               33.0             12              9   \n",
       "7                  7               70.0             43             22   \n",
       "8                  1               33.0             18              9   \n",
       "9                 12               57.0             43             17   \n",
       "10                 6               67.0             22             16   \n",
       "11                 5               62.0             43             28   \n",
       "12                 4               40.0             26             10   \n",
       "13                 2               50.0             15             10   \n",
       "\n",
       "    Full_Buy_20_WR          Opp_team  Num_maps  Patch    Map  \n",
       "0             51.0               IMP       3.0    NaN  MATCH  \n",
       "1             75.0              ITZA       2.0   1.12  MATCH  \n",
       "2             68.0                BD       2.0   1.12  MATCH  \n",
       "3             68.0              dogz       2.0   1.12  MATCH  \n",
       "4             63.0              1tap       2.0   1.10  MATCH  \n",
       "5             89.0  Furnace e-sports       1.0   1.10  MATCH  \n",
       "6             75.0              1tap       1.0   1.10  MATCH  \n",
       "7             51.0                B4       3.0   1.10  MATCH  \n",
       "8             50.0               RED       1.0   1.10  MATCH  \n",
       "9             40.0                GL       4.0   1.12  MATCH  \n",
       "10            73.0             HAVAN       2.0   1.12  MATCH  \n",
       "11            65.0               IMP       3.0   1.12  MATCH  \n",
       "12            38.0               Mix       3.0   1.10  MATCH  \n",
       "13            67.0     OS KARA VELHO       1.0   1.10  MATCH  "
      ],
      "text/html": "<div>\n<style scoped>\n    .dataframe tbody tr th:only-of-type {\n        vertical-align: middle;\n    }\n\n    .dataframe tbody tr th {\n        vertical-align: top;\n    }\n\n    .dataframe thead th {\n        text-align: right;\n    }\n</style>\n<table border=\"1\" class=\"dataframe\">\n  <thead>\n    <tr style=\"text-align: right;\">\n      <th></th>\n      <th>Team</th>\n      <th>Pistol_W</th>\n      <th>Pistol_P</th>\n      <th>Pistol_WR</th>\n      <th>Eco_0_5_P</th>\n      <th>Eco_0_5_W</th>\n      <th>Eco_0_5_WR</th>\n      <th>Semi_Eco_5_10_P</th>\n      <th>Semi_Eco_5_10_W</th>\n      <th>Semi_Eco_5_10_WR</th>\n      <th>Semi_Buy_10_20_P</th>\n      <th>Semi_Buy_10_20_W</th>\n      <th>Semi_Buy_10_20_WR</th>\n      <th>Full_Buy_20_P</th>\n      <th>Full_Buy_20_W</th>\n      <th>Full_Buy_20_WR</th>\n      <th>Opp_team</th>\n      <th>Num_maps</th>\n      <th>Patch</th>\n      <th>Map</th>\n    </tr>\n  </thead>\n  <tbody>\n    <tr>\n      <th>0</th>\n      <td>paiN</td>\n      <td>3</td>\n      <td>6</td>\n      <td>50.0</td>\n      <td>8</td>\n      <td>3</td>\n      <td>38.0</td>\n      <td>3</td>\n      <td>0</td>\n      <td>0.0</td>\n      <td>12</td>\n      <td>8</td>\n      <td>67.0</td>\n      <td>39</td>\n      <td>20</td>\n      <td>51.0</td>\n      <td>IMP</td>\n      <td>3.0</td>\n      <td>NaN</td>\n      <td>MATCH</td>\n    </tr>\n    <tr>\n      <th>1</th>\n      <td>paiN</td>\n      <td>4</td>\n      <td>4</td>\n      <td>100.0</td>\n      <td>4</td>\n      <td>4</td>\n      <td>100.0</td>\n      <td>0</td>\n      <td>0</td>\n      <td>NaN</td>\n      <td>11</td>\n      <td>7</td>\n      <td>64.0</td>\n      <td>20</td>\n      <td>15</td>\n      <td>75.0</td>\n      <td>ITZA</td>\n      <td>2.0</td>\n      <td>1.12</td>\n      <td>MATCH</td>\n    </tr>\n    <tr>\n      <th>2</th>\n      <td>paiN</td>\n      <td>1</td>\n      <td>4</td>\n      <td>25.0</td>\n      <td>7</td>\n      <td>2</td>\n      <td>29.0</td>\n      <td>1</td>\n      <td>0</td>\n      <td>0.0</td>\n      <td>1</td>\n      <td>1</td>\n      <td>100.0</td>\n      <td>34</td>\n      <td>23</td>\n      <td>68.0</td>\n      <td>BD</td>\n      <td>2.0</td>\n      <td>1.12</td>\n      <td>MATCH</td>\n    </tr>\n    <tr>\n      <th>3</th>\n      <td>paiN</td>\n      <td>4</td>\n      <td>4</td>\n      <td>100.0</td>\n      <td>4</td>\n      <td>4</td>\n      <td>100.0</td>\n      <td>0</td>\n      <td>0</td>\n      <td>NaN</td>\n      <td>12</td>\n      <td>7</td>\n      <td>58.0</td>\n      <td>22</td>\n      <td>15</td>\n      <td>68.0</td>\n      <td>dogz</td>\n      <td>2.0</td>\n      <td>1.12</td>\n      <td>MATCH</td>\n    </tr>\n    <tr>\n      <th>4</th>\n      <td>paiN</td>\n      <td>2</td>\n      <td>4</td>\n      <td>50.0</td>\n      <td>6</td>\n      <td>2</td>\n      <td>33.0</td>\n      <td>2</td>\n      <td>2</td>\n      <td>100.0</td>\n      <td>4</td>\n      <td>3</td>\n      <td>75.0</td>\n      <td>30</td>\n      <td>19</td>\n      <td>63.0</td>\n      <td>1tap</td>\n      <td>2.0</td>\n      <td>1.10</td>\n      <td>MATCH</td>\n    </tr>\n    <tr>\n      <th>5</th>\n      <td>paiN</td>\n      <td>1</td>\n      <td>2</td>\n      <td>50.0</td>\n      <td>3</td>\n      <td>2</td>\n      <td>67.0</td>\n      <td>0</td>\n      <td>0</td>\n      <td>NaN</td>\n      <td>3</td>\n      <td>3</td>\n      <td>100.0</td>\n      <td>9</td>\n      <td>8</td>\n      <td>89.0</td>\n      <td>Furnace e-sports</td>\n      <td>1.0</td>\n      <td>1.10</td>\n      <td>MATCH</td>\n    </tr>\n    <tr>\n      <th>6</th>\n      <td>paiN</td>\n      <td>2</td>\n      <td>2</td>\n      <td>100.0</td>\n      <td>2</td>\n      <td>2</td>\n      <td>100.0</td>\n      <td>1</td>\n      <td>0</td>\n      <td>0.0</td>\n      <td>6</td>\n      <td>2</td>\n      <td>33.0</td>\n      <td>12</td>\n      <td>9</td>\n      <td>75.0</td>\n      <td>1tap</td>\n      <td>1.0</td>\n      <td>1.10</td>\n      <td>MATCH</td>\n    </tr>\n    <tr>\n      <th>7</th>\n      <td>paiN</td>\n      <td>1</td>\n      <td>6</td>\n      <td>17.0</td>\n      <td>10</td>\n      <td>2</td>\n      <td>20.0</td>\n      <td>5</td>\n      <td>0</td>\n      <td>0.0</td>\n      <td>10</td>\n      <td>7</td>\n      <td>70.0</td>\n      <td>43</td>\n      <td>22</td>\n      <td>51.0</td>\n      <td>B4</td>\n      <td>3.0</td>\n      <td>1.10</td>\n      <td>MATCH</td>\n    </tr>\n    <tr>\n      <th>8</th>\n      <td>paiN</td>\n      <td>1</td>\n      <td>2</td>\n      <td>50.0</td>\n      <td>6</td>\n      <td>2</td>\n      <td>33.0</td>\n      <td>1</td>\n      <td>1</td>\n      <td>100.0</td>\n      <td>3</td>\n      <td>1</td>\n      <td>33.0</td>\n      <td>18</td>\n      <td>9</td>\n      <td>50.0</td>\n      <td>RED</td>\n      <td>1.0</td>\n      <td>1.10</td>\n      <td>MATCH</td>\n    </tr>\n    <tr>\n      <th>9</th>\n      <td>paiN</td>\n      <td>4</td>\n      <td>8</td>\n      <td>50.0</td>\n      <td>12</td>\n      <td>4</td>\n      <td>33.0</td>\n      <td>10</td>\n      <td>1</td>\n      <td>10.0</td>\n      <td>21</td>\n      <td>12</td>\n      <td>57.0</td>\n      <td>43</td>\n      <td>17</td>\n      <td>40.0</td>\n      <td>GL</td>\n      <td>4.0</td>\n      <td>1.12</td>\n      <td>MATCH</td>\n    </tr>\n    <tr>\n      <th>10</th>\n      <td>paiN</td>\n      <td>4</td>\n      <td>4</td>\n      <td>100.0</td>\n      <td>5</td>\n      <td>4</td>\n      <td>80.0</td>\n      <td>4</td>\n      <td>0</td>\n      <td>0.0</td>\n      <td>9</td>\n      <td>6</td>\n      <td>67.0</td>\n      <td>22</td>\n      <td>16</td>\n      <td>73.0</td>\n      <td>HAVAN</td>\n      <td>2.0</td>\n      <td>1.12</td>\n      <td>MATCH</td>\n    </tr>\n    <tr>\n      <th>11</th>\n      <td>paiN</td>\n      <td>3</td>\n      <td>6</td>\n      <td>50.0</td>\n      <td>10</td>\n      <td>3</td>\n      <td>30.0</td>\n      <td>2</td>\n      <td>0</td>\n      <td>0.0</td>\n      <td>8</td>\n      <td>5</td>\n      <td>62.0</td>\n      <td>43</td>\n      <td>28</td>\n      <td>65.0</td>\n      <td>IMP</td>\n      <td>3.0</td>\n      <td>1.12</td>\n      <td>MATCH</td>\n    </tr>\n    <tr>\n      <th>12</th>\n      <td>paiN</td>\n      <td>3</td>\n      <td>6</td>\n      <td>50.0</td>\n      <td>9</td>\n      <td>4</td>\n      <td>44.0</td>\n      <td>6</td>\n      <td>2</td>\n      <td>33.0</td>\n      <td>10</td>\n      <td>4</td>\n      <td>40.0</td>\n      <td>26</td>\n      <td>10</td>\n      <td>38.0</td>\n      <td>Mix</td>\n      <td>3.0</td>\n      <td>1.10</td>\n      <td>MATCH</td>\n    </tr>\n    <tr>\n      <th>13</th>\n      <td>paiN</td>\n      <td>1</td>\n      <td>2</td>\n      <td>50.0</td>\n      <td>4</td>\n      <td>2</td>\n      <td>50.0</td>\n      <td>3</td>\n      <td>0</td>\n      <td>0.0</td>\n      <td>4</td>\n      <td>2</td>\n      <td>50.0</td>\n      <td>15</td>\n      <td>10</td>\n      <td>67.0</td>\n      <td>OS KARA VELHO</td>\n      <td>1.0</td>\n      <td>1.10</td>\n      <td>MATCH</td>\n    </tr>\n  </tbody>\n</table>\n</div>"
     },
     "metadata": {},
     "execution_count": 15
    }
   ],
   "source": [
    "matches"
   ]
  },
  {
   "cell_type": "code",
   "execution_count": 9,
   "metadata": {},
   "outputs": [],
   "source": [
    "## Filtrando dados do time\n",
    "map_dict = {}\n",
    "for map in MAPS:\n",
    "    map_dict[map] = maps[(maps['Map'] == map) & ((maps['Team'] == 'paiN') | (maps['Team'] == 'NOORG2.0') )].reset_index(drop=True)"
   ]
  },
  {
   "cell_type": "code",
   "execution_count": null,
   "metadata": {},
   "outputs": [],
   "source": []
  }
 ]
}